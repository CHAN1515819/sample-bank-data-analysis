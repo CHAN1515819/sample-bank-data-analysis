{
 "cells": [
  {
   "cell_type": "code",
   "execution_count": 1,
   "id": "0202547e-471e-41f6-ab62-372d910e2111",
   "metadata": {},
   "outputs": [],
   "source": [
    "import pandas as pd\n",
    "\n",
    "# Step 1: Load the dataset into a DataFrame\n",
    "data = pd.read_csv('sample_bank_data.csv')"
   ]
  },
  {
   "cell_type": "code",
   "execution_count": 2,
   "id": "b792cd06-9521-4411-938c-1ff5386a48d6",
   "metadata": {},
   "outputs": [
    {
     "name": "stdout",
     "output_type": "stream",
     "text": [
      "                            customer_id             full_name  age   income  \\\n",
      "0  ec1d4d99-b302-4490-ab73-a151a16bed41            Amy Harris   56   284064   \n",
      "1  3933fd45-314b-4495-aa88-4d7224088435           Erica Smith   69  1174697   \n",
      "2  66f67c7c-f87b-4450-83bd-18c104b6f1fd  Stephanie Villanueva   46   490435   \n",
      "3  aba6150a-7406-44af-b5e2-eeb315344648        George Jackson   32   621160   \n",
      "4  c869dc3d-ccfb-4f7c-ad53-2ba580e9ef1c          Valerie Ruiz   60  1936140   \n",
      "\n",
      "             city           state                               loan_id  \\\n",
      "0    Joneschester  South Carolina  59104b7a-e332-4bcf-b3eb-178c5e731cd2   \n",
      "1         Mayfurt        New York  f2926974-8d1a-4c94-bfbd-79cb2d80c284   \n",
      "2   East Samantha    North Dakota  a6fa79d5-bf52-4050-9c05-0f137ede1281   \n",
      "3       New Shane        Arkansas  318fcdc3-61ec-41a3-ba17-a1551c465d24   \n",
      "4  West Julieside      California  30e7bcec-abb6-4ac8-905f-5c3e47620f87   \n",
      "\n",
      "   loan_type  loan_amount  interest_rate loan_status  credit_score issue_date  \\\n",
      "0   Personal      3503796           5.14      Closed           390   9/4/2015   \n",
      "1  Education      1087140           8.00      Closed           775  9/10/2021   \n",
      "2       Auto      1666419           6.70      Closed           487   9/3/2023   \n",
      "3   Personal       940648          17.64   Defaulted           494   1/5/2021   \n",
      "4   Personal       228475           8.88   Defaulted           833  7/13/2015   \n",
      "\n",
      "   payment_amount  \n",
      "0           10896  \n",
      "1           34077  \n",
      "2           86334  \n",
      "3           72325  \n",
      "4           76226  \n"
     ]
    }
   ],
   "source": [
    "print(data.head())"
   ]
  },
  {
   "cell_type": "code",
   "execution_count": 3,
   "id": "f9a2a6bc-8d08-49b6-8935-f393513f2012",
   "metadata": {},
   "outputs": [
    {
     "name": "stderr",
     "output_type": "stream",
     "text": [
      "C:\\Users\\PC\\AppData\\Local\\Temp\\ipykernel_12440\\2866031220.py:1: FutureWarning: DataFrame.fillna with 'method' is deprecated and will raise in a future version. Use obj.ffill() or obj.bfill() instead.\n",
      "  data.fillna(method='ffill', inplace=True)\n"
     ]
    }
   ],
   "source": [
    "data.fillna(method='ffill', inplace=True)"
   ]
  },
  {
   "cell_type": "code",
   "execution_count": 4,
   "id": "e3da9b49-21c5-441d-89ad-d350fe64e009",
   "metadata": {},
   "outputs": [],
   "source": [
    "data['issue_date'] = pd.to_datetime(data['issue_date']) "
   ]
  },
  {
   "cell_type": "code",
   "execution_count": 5,
   "id": "04b6fc65-c432-4142-8524-ccc11d90d108",
   "metadata": {},
   "outputs": [
    {
     "name": "stdout",
     "output_type": "stream",
     "text": [
      "<class 'pandas.core.frame.DataFrame'>\n",
      "RangeIndex: 5000 entries, 0 to 4999\n",
      "Data columns (total 14 columns):\n",
      " #   Column          Non-Null Count  Dtype         \n",
      "---  ------          --------------  -----         \n",
      " 0   customer_id     5000 non-null   object        \n",
      " 1   full_name       5000 non-null   object        \n",
      " 2   age             5000 non-null   int64         \n",
      " 3   income          5000 non-null   int64         \n",
      " 4   city            5000 non-null   object        \n",
      " 5   state           5000 non-null   object        \n",
      " 6   loan_id         5000 non-null   object        \n",
      " 7   loan_type       5000 non-null   object        \n",
      " 8   loan_amount     5000 non-null   int64         \n",
      " 9   interest_rate   5000 non-null   float64       \n",
      " 10  loan_status     5000 non-null   object        \n",
      " 11  credit_score    5000 non-null   int64         \n",
      " 12  issue_date      5000 non-null   datetime64[ns]\n",
      " 13  payment_amount  5000 non-null   int64         \n",
      "dtypes: datetime64[ns](1), float64(1), int64(5), object(7)\n",
      "memory usage: 547.0+ KB\n",
      "None\n"
     ]
    }
   ],
   "source": [
    "print(data.info())\n"
   ]
  },
  {
   "cell_type": "code",
   "execution_count": 6,
   "id": "f0a424c6-ef0c-4ce5-a428-fdddb8ed26bb",
   "metadata": {},
   "outputs": [],
   "source": [
    "data['age'] = data['age'].astype(int)"
   ]
  },
  {
   "cell_type": "code",
   "execution_count": 7,
   "id": "fa85b944-a2e8-49c5-8b19-b49ee43a371c",
   "metadata": {},
   "outputs": [
    {
     "name": "stdout",
     "output_type": "stream",
     "text": [
      "<class 'pandas.core.frame.DataFrame'>\n",
      "RangeIndex: 5000 entries, 0 to 4999\n",
      "Data columns (total 14 columns):\n",
      " #   Column          Non-Null Count  Dtype         \n",
      "---  ------          --------------  -----         \n",
      " 0   customer_id     5000 non-null   object        \n",
      " 1   full_name       5000 non-null   object        \n",
      " 2   age             5000 non-null   int64         \n",
      " 3   income          5000 non-null   int64         \n",
      " 4   city            5000 non-null   object        \n",
      " 5   state           5000 non-null   object        \n",
      " 6   loan_id         5000 non-null   object        \n",
      " 7   loan_type       5000 non-null   object        \n",
      " 8   loan_amount     5000 non-null   int64         \n",
      " 9   interest_rate   5000 non-null   float64       \n",
      " 10  loan_status     5000 non-null   object        \n",
      " 11  credit_score    5000 non-null   int64         \n",
      " 12  issue_date      5000 non-null   datetime64[ns]\n",
      " 13  payment_amount  5000 non-null   int64         \n",
      "dtypes: datetime64[ns](1), float64(1), int64(5), object(7)\n",
      "memory usage: 547.0+ KB\n",
      "None\n"
     ]
    }
   ],
   "source": [
    "print(data.info())"
   ]
  },
  {
   "cell_type": "code",
   "execution_count": 8,
   "id": "0216a620-747f-4546-b112-e788c74ba99e",
   "metadata": {},
   "outputs": [],
   "source": [
    "data['income'] = data['income'].astype(float)"
   ]
  },
  {
   "cell_type": "code",
   "execution_count": 9,
   "id": "a0036ae5-9604-4aed-8005-891847c56ccd",
   "metadata": {},
   "outputs": [
    {
     "name": "stdout",
     "output_type": "stream",
     "text": [
      "<class 'pandas.core.frame.DataFrame'>\n",
      "RangeIndex: 5000 entries, 0 to 4999\n",
      "Data columns (total 14 columns):\n",
      " #   Column          Non-Null Count  Dtype         \n",
      "---  ------          --------------  -----         \n",
      " 0   customer_id     5000 non-null   object        \n",
      " 1   full_name       5000 non-null   object        \n",
      " 2   age             5000 non-null   int64         \n",
      " 3   income          5000 non-null   float64       \n",
      " 4   city            5000 non-null   object        \n",
      " 5   state           5000 non-null   object        \n",
      " 6   loan_id         5000 non-null   object        \n",
      " 7   loan_type       5000 non-null   object        \n",
      " 8   loan_amount     5000 non-null   int64         \n",
      " 9   interest_rate   5000 non-null   float64       \n",
      " 10  loan_status     5000 non-null   object        \n",
      " 11  credit_score    5000 non-null   int64         \n",
      " 12  issue_date      5000 non-null   datetime64[ns]\n",
      " 13  payment_amount  5000 non-null   int64         \n",
      "dtypes: datetime64[ns](1), float64(2), int64(4), object(7)\n",
      "memory usage: 547.0+ KB\n",
      "None\n"
     ]
    }
   ],
   "source": [
    "print(data.info())"
   ]
  },
  {
   "cell_type": "code",
   "execution_count": 10,
   "id": "cfcfd400-2632-4945-8d63-d9a3235e39f4",
   "metadata": {},
   "outputs": [],
   "source": [
    "data.drop_duplicates(inplace=True)"
   ]
  },
  {
   "cell_type": "code",
   "execution_count": 11,
   "id": "00fef1eb-328a-4908-8557-9ed70a7a4a9f",
   "metadata": {},
   "outputs": [
    {
     "name": "stdout",
     "output_type": "stream",
     "text": [
      "                               customer_id        full_name  age     income  \\\n",
      "4995  3476fb4e-4242-4596-a65a-32ae7fbc0831   Sherry Parrish   24   414798.0   \n",
      "4996  446c9154-9428-4626-a608-33fd85fbdd87       Joel Brown   66  1004348.0   \n",
      "4997  6757b840-0869-4167-8db3-a7d999f1e5ee  Lawrence Greene   26  1876309.0   \n",
      "4998  48d0f50d-4a6b-4bf6-bb0d-ee59a2bf5000    Austin Rivera   53  1405049.0   \n",
      "4999  f0523c5f-a3d4-47c8-8014-434bea089cf8     Donna Finley   36    21620.0   \n",
      "\n",
      "                    city        state                               loan_id  \\\n",
      "4995         Oliviashire       Hawaii  ac79dfce-5fec-4bde-82c5-561aeb00b455   \n",
      "4996            Shawview   New Mexico  d0747806-ae52-45bf-abe3-bd36c2f5db0b   \n",
      "4997  South Ellenborough    Minnesota  0eb30f1a-05a8-4efb-8609-8ed0c0594458   \n",
      "4998        Gregorymouth      Vermont  2035eac3-1a3e-44f6-b3bb-dbcbb15a1607   \n",
      "4999          Joshuastad  Connecticut  872fa39f-4745-40b2-8e36-104f224237fe   \n",
      "\n",
      "     loan_type  loan_amount  interest_rate loan_status  credit_score  \\\n",
      "4995  Personal      1489977          15.56   Defaulted           362   \n",
      "4996  Personal       380453          10.37      Closed           704   \n",
      "4997      Home      4183230          18.22      Closed           779   \n",
      "4998  Business       660784          14.66      Active           624   \n",
      "4999      Home      4929932          15.70      Closed           680   \n",
      "\n",
      "     issue_date  payment_amount  \n",
      "4995 2021-10-13           78860  \n",
      "4996 2020-03-07           32099  \n",
      "4997 2015-07-30           10727  \n",
      "4998 2019-12-24           66904  \n",
      "4999 2020-11-02           27533  \n"
     ]
    }
   ],
   "source": [
    "print(data.tail())\n"
   ]
  },
  {
   "cell_type": "code",
   "execution_count": 12,
   "id": "611702a0-86f9-4ba9-bfa1-99f89883b451",
   "metadata": {},
   "outputs": [
    {
     "data": {
      "text/plain": [
       "5000"
      ]
     },
     "execution_count": 12,
     "metadata": {},
     "output_type": "execute_result"
    }
   ],
   "source": [
    "# Step 3: Optionally, load the data into a SQL database\n",
    "import sqlite3\n",
    "\n",
    "# Create a SQLite database connection\n",
    "conn = sqlite3.connect('loan_data.db')\n",
    "\n",
    "# Load the DataFrame into the SQL database\n",
    "data.to_sql('loans', conn, if_exists='replace', index=False)"
   ]
  },
  {
   "cell_type": "code",
   "execution_count": 13,
   "id": "ccb0a649-ee86-4f2f-8bc7-163c7feed6f2",
   "metadata": {},
   "outputs": [
    {
     "name": "stdout",
     "output_type": "stream",
     "text": [
      "                               customer_id             full_name  age  \\\n",
      "0     ec1d4d99-b302-4490-ab73-a151a16bed41            Amy Harris   56   \n",
      "1     3933fd45-314b-4495-aa88-4d7224088435           Erica Smith   69   \n",
      "2     66f67c7c-f87b-4450-83bd-18c104b6f1fd  Stephanie Villanueva   46   \n",
      "3     aba6150a-7406-44af-b5e2-eeb315344648        George Jackson   32   \n",
      "4     c869dc3d-ccfb-4f7c-ad53-2ba580e9ef1c          Valerie Ruiz   60   \n",
      "...                                    ...                   ...  ...   \n",
      "4995  3476fb4e-4242-4596-a65a-32ae7fbc0831        Sherry Parrish   24   \n",
      "4996  446c9154-9428-4626-a608-33fd85fbdd87            Joel Brown   66   \n",
      "4997  6757b840-0869-4167-8db3-a7d999f1e5ee       Lawrence Greene   26   \n",
      "4998  48d0f50d-4a6b-4bf6-bb0d-ee59a2bf5000         Austin Rivera   53   \n",
      "4999  f0523c5f-a3d4-47c8-8014-434bea089cf8          Donna Finley   36   \n",
      "\n",
      "         income                city           state  \\\n",
      "0      284064.0        Joneschester  South Carolina   \n",
      "1     1174697.0             Mayfurt        New York   \n",
      "2      490435.0       East Samantha    North Dakota   \n",
      "3      621160.0           New Shane        Arkansas   \n",
      "4     1936140.0      West Julieside      California   \n",
      "...         ...                 ...             ...   \n",
      "4995   414798.0         Oliviashire          Hawaii   \n",
      "4996  1004348.0            Shawview      New Mexico   \n",
      "4997  1876309.0  South Ellenborough       Minnesota   \n",
      "4998  1405049.0        Gregorymouth         Vermont   \n",
      "4999    21620.0          Joshuastad     Connecticut   \n",
      "\n",
      "                                   loan_id  loan_type  loan_amount  \\\n",
      "0     59104b7a-e332-4bcf-b3eb-178c5e731cd2   Personal      3503796   \n",
      "1     f2926974-8d1a-4c94-bfbd-79cb2d80c284  Education      1087140   \n",
      "2     a6fa79d5-bf52-4050-9c05-0f137ede1281       Auto      1666419   \n",
      "3     318fcdc3-61ec-41a3-ba17-a1551c465d24   Personal       940648   \n",
      "4     30e7bcec-abb6-4ac8-905f-5c3e47620f87   Personal       228475   \n",
      "...                                    ...        ...          ...   \n",
      "4995  ac79dfce-5fec-4bde-82c5-561aeb00b455   Personal      1489977   \n",
      "4996  d0747806-ae52-45bf-abe3-bd36c2f5db0b   Personal       380453   \n",
      "4997  0eb30f1a-05a8-4efb-8609-8ed0c0594458       Home      4183230   \n",
      "4998  2035eac3-1a3e-44f6-b3bb-dbcbb15a1607   Business       660784   \n",
      "4999  872fa39f-4745-40b2-8e36-104f224237fe       Home      4929932   \n",
      "\n",
      "      interest_rate loan_status  credit_score           issue_date  \\\n",
      "0              5.14      Closed           390  2015-09-04 00:00:00   \n",
      "1              8.00      Closed           775  2021-09-10 00:00:00   \n",
      "2              6.70      Closed           487  2023-09-03 00:00:00   \n",
      "3             17.64   Defaulted           494  2021-01-05 00:00:00   \n",
      "4              8.88   Defaulted           833  2015-07-13 00:00:00   \n",
      "...             ...         ...           ...                  ...   \n",
      "4995          15.56   Defaulted           362  2021-10-13 00:00:00   \n",
      "4996          10.37      Closed           704  2020-03-07 00:00:00   \n",
      "4997          18.22      Closed           779  2015-07-30 00:00:00   \n",
      "4998          14.66      Active           624  2019-12-24 00:00:00   \n",
      "4999          15.70      Closed           680  2020-11-02 00:00:00   \n",
      "\n",
      "      payment_amount  \n",
      "0              10896  \n",
      "1              34077  \n",
      "2              86334  \n",
      "3              72325  \n",
      "4              76226  \n",
      "...              ...  \n",
      "4995           78860  \n",
      "4996           32099  \n",
      "4997           10727  \n",
      "4998           66904  \n",
      "4999           27533  \n",
      "\n",
      "[5000 rows x 14 columns]\n"
     ]
    }
   ],
   "source": [
    "# Query the database to retrieve all records\n",
    "query = \"SELECT * FROM loans\"\n",
    "df_from_db = pd.read_sql_query(query, conn)\n",
    "\n",
    "# Display the retrieved data\n",
    "print(df_from_db)\n"
   ]
  },
  {
   "cell_type": "code",
   "execution_count": 14,
   "id": "6f88d7e2-8c84-487b-8a10-5349e4e162a5",
   "metadata": {},
   "outputs": [
    {
     "name": "stdout",
     "output_type": "stream",
     "text": [
      "                            customer_id             full_name  age     income  \\\n",
      "0  ec1d4d99-b302-4490-ab73-a151a16bed41            Amy Harris   56   284064.0   \n",
      "1  3933fd45-314b-4495-aa88-4d7224088435           Erica Smith   69  1174697.0   \n",
      "2  66f67c7c-f87b-4450-83bd-18c104b6f1fd  Stephanie Villanueva   46   490435.0   \n",
      "3  aba6150a-7406-44af-b5e2-eeb315344648        George Jackson   32   621160.0   \n",
      "4  c869dc3d-ccfb-4f7c-ad53-2ba580e9ef1c          Valerie Ruiz   60  1936140.0   \n",
      "\n",
      "             city           state                               loan_id  \\\n",
      "0    Joneschester  South Carolina  59104b7a-e332-4bcf-b3eb-178c5e731cd2   \n",
      "1         Mayfurt        New York  f2926974-8d1a-4c94-bfbd-79cb2d80c284   \n",
      "2   East Samantha    North Dakota  a6fa79d5-bf52-4050-9c05-0f137ede1281   \n",
      "3       New Shane        Arkansas  318fcdc3-61ec-41a3-ba17-a1551c465d24   \n",
      "4  West Julieside      California  30e7bcec-abb6-4ac8-905f-5c3e47620f87   \n",
      "\n",
      "   loan_type  loan_amount  interest_rate loan_status  credit_score  \\\n",
      "0   Personal      3503796           5.14      Closed           390   \n",
      "1  Education      1087140           8.00      Closed           775   \n",
      "2       Auto      1666419           6.70      Closed           487   \n",
      "3   Personal       940648          17.64   Defaulted           494   \n",
      "4   Personal       228475           8.88   Defaulted           833   \n",
      "\n",
      "            issue_date  payment_amount  \n",
      "0  2015-09-04 00:00:00           10896  \n",
      "1  2021-09-10 00:00:00           34077  \n",
      "2  2023-09-03 00:00:00           86334  \n",
      "3  2021-01-05 00:00:00           72325  \n",
      "4  2015-07-13 00:00:00           76226  \n"
     ]
    }
   ],
   "source": [
    "print(df_from_db.head())\n"
   ]
  },
  {
   "cell_type": "code",
   "execution_count": 15,
   "id": "9bd13040-da8b-4d66-aea4-85eecb1b0f24",
   "metadata": {},
   "outputs": [
    {
     "name": "stdout",
     "output_type": "stream",
     "text": [
      "<class 'pandas.core.frame.DataFrame'>\n",
      "RangeIndex: 5000 entries, 0 to 4999\n",
      "Data columns (total 14 columns):\n",
      " #   Column          Non-Null Count  Dtype  \n",
      "---  ------          --------------  -----  \n",
      " 0   customer_id     5000 non-null   object \n",
      " 1   full_name       5000 non-null   object \n",
      " 2   age             5000 non-null   int64  \n",
      " 3   income          5000 non-null   float64\n",
      " 4   city            5000 non-null   object \n",
      " 5   state           5000 non-null   object \n",
      " 6   loan_id         5000 non-null   object \n",
      " 7   loan_type       5000 non-null   object \n",
      " 8   loan_amount     5000 non-null   int64  \n",
      " 9   interest_rate   5000 non-null   float64\n",
      " 10  loan_status     5000 non-null   object \n",
      " 11  credit_score    5000 non-null   int64  \n",
      " 12  issue_date      5000 non-null   object \n",
      " 13  payment_amount  5000 non-null   int64  \n",
      "dtypes: float64(2), int64(4), object(8)\n",
      "memory usage: 547.0+ KB\n",
      "None\n"
     ]
    }
   ],
   "source": [
    "print(df_from_db.info())\n"
   ]
  },
  {
   "cell_type": "code",
   "execution_count": 16,
   "id": "c87981fb-56cb-44bf-85f2-ef3eca704fe8",
   "metadata": {},
   "outputs": [
    {
     "name": "stdout",
     "output_type": "stream",
     "text": [
      "               age        income   loan_amount  interest_rate  credit_score  \\\n",
      "count  5000.000000  5.000000e+03  5.000000e+03    5000.000000   5000.000000   \n",
      "mean     43.584600  1.011990e+06  2.578081e+06      12.613340    576.145200   \n",
      "min      18.000000  2.021500e+04  5.165800e+04       5.000000    300.000000   \n",
      "25%      31.000000  5.064240e+05  1.318364e+06       8.930000    436.000000   \n",
      "50%      43.000000  1.007688e+06  2.607872e+06      12.685000    576.500000   \n",
      "75%      56.000000  1.511361e+06  3.833538e+06      16.340000    713.000000   \n",
      "max      69.000000  1.999746e+06  4.999944e+06      20.000000    849.000000   \n",
      "std      14.919094  5.742886e+05  1.443128e+06       4.312717    159.889234   \n",
      "\n",
      "                       issue_date  payment_amount  \n",
      "count                        5000     5000.000000  \n",
      "mean   2019-09-25 02:41:16.800000    50430.098400  \n",
      "min           2014-09-28 00:00:00     1025.000000  \n",
      "25%           2017-03-26 00:00:00    25297.500000  \n",
      "50%           2019-09-15 00:00:00    50410.500000  \n",
      "75%           2022-03-16 00:00:00    75777.250000  \n",
      "max           2024-09-27 00:00:00    99956.000000  \n",
      "std                           NaN    28744.278699  \n"
     ]
    }
   ],
   "source": [
    "descriptive_stats = data.describe()\n",
    "print(descriptive_stats)\n"
   ]
  },
  {
   "cell_type": "code",
   "execution_count": 17,
   "id": "0e4229d6-5238-4d7d-a9ba-8a444ae4b3e0",
   "metadata": {},
   "outputs": [
    {
     "data": {
      "image/png": "[encoded data removed]",
      "text/plain": [
       "<Figure size 1000x600 with 1 Axes>"
      ]
     },
     "metadata": {},
     "output_type": "display_data"
    }
   ],
   "source": [
    "import matplotlib.pyplot as plt\n",
    "import seaborn as sns\n",
    "\n",
    "# a. Histogram for income\n",
    "plt.figure(figsize=(10, 6))\n",
    "sns.histplot(data['income'], bins=30, kde=True)\n",
    "plt.title('Income Distribution')\n",
    "plt.xlabel('Income')\n",
    "plt.ylabel('Frequency')\n",
    "plt.show()"
   ]
  },
  {
   "cell_type": "code",
   "execution_count": 18,
   "id": "4eeff32f-4a8d-4211-9892-bb9be63767c4",
   "metadata": {},
   "outputs": [
    {
     "data": {
      "image/png": "[encoded data removed]",
      "text/plain": [
       "<Figure size 1000x600 with 1 Axes>"
      ]
     },
     "metadata": {},
     "output_type": "display_data"
    }
   ],
   "source": [
    "plt.figure(figsize=(10, 6))\n",
    "sns.histplot(data['loan_amount'], bins=30, kde=True)\n",
    "plt.title('Loan Amount Distribution')\n",
    "plt.xlabel('Loan Amount')\n",
    "plt.ylabel('Frequency')\n",
    "plt.show()"
   ]
  },
  {
   "cell_type": "code",
   "execution_count": 19,
   "id": "8d4b9bc9-1707-40df-8907-5a613dfe1200",
   "metadata": {},
   "outputs": [
    {
     "data": {
      "text/plain": [
       "5000"
      ]
     },
     "execution_count": 19,
     "metadata": {},
     "output_type": "execute_result"
    }
   ],
   "source": [
    "import pandas as pd\n",
    "import sqlite3\n",
    "\n",
    "# Load the CSV into a DataFrame\n",
    "data = pd.read_csv('sample_bank_data.csv')\n",
    "\n",
    "# Create a SQLite database connection\n",
    "conn = sqlite3.connect('loan_data.db')\n",
    "\n",
    "# Load the DataFrame into the SQL database\n",
    "data.to_sql('loans', conn, if_exists='replace', index=False)\n"
   ]
  },
  {
   "cell_type": "code",
   "execution_count": 20,
   "id": "7ed544a8-f9e8-4d1e-9da0-f2d87311aae2",
   "metadata": {},
   "outputs": [],
   "source": [
    "import sqlite3\n",
    "import pandas as pd\n",
    "\n",
    "# Connect to the SQLite database\n",
    "conn = sqlite3.connect('loan_data.db')"
   ]
  },
  {
   "cell_type": "code",
   "execution_count": 21,
   "id": "ed2a8abb-6692-4d4a-9a6e-afd8aa05e95a",
   "metadata": {},
   "outputs": [
    {
     "name": "stdout",
     "output_type": "stream",
     "text": [
      "Descriptive statistics for numeric fields:\n",
      "   avg_age   avg_income  total_loans  min_loan  max_loan  avg_interest_rate\n",
      "0  43.5846  1011989.682         5000     51658   4999944           12.61334\n"
     ]
    }
   ],
   "source": [
    "query1 = '''\n",
    "SELECT \n",
    "    AVG(age) AS avg_age,\n",
    "    AVG(income) AS avg_income,\n",
    "    COUNT(*) AS total_loans,\n",
    "    MIN(loan_amount) AS min_loan,\n",
    "    MAX(loan_amount) AS max_loan, \n",
    "    AVG(interest_rate) AS avg_interest_rate\n",
    "FROM loans;\n",
    "'''\n",
    "result1 = pd.read_sql_query(query1, conn)\n",
    "print(\"Descriptive statistics for numeric fields:\")\n",
    "print(result1)"
   ]
  },
  {
   "cell_type": "code",
   "execution_count": 22,
   "id": "086ba0f7-a951-456b-a7e8-4acbf47a0052",
   "metadata": {},
   "outputs": [
    {
     "name": "stdout",
     "output_type": "stream",
     "text": [
      "\n",
      "Average loan amounts per state:\n",
      "             state  avg_loan_amount\n",
      "0          Alabama     2.374277e+06\n",
      "1           Alaska     2.788114e+06\n",
      "2          Arizona     2.531322e+06\n",
      "3         Arkansas     2.451134e+06\n",
      "4       California     2.654528e+06\n",
      "5         Colorado     2.770591e+06\n",
      "6      Connecticut     2.521711e+06\n",
      "7         Delaware     2.558389e+06\n",
      "8          Florida     2.215340e+06\n",
      "9          Georgia     2.822967e+06\n",
      "10          Hawaii     2.699261e+06\n",
      "11           Idaho     2.344433e+06\n",
      "12        Illinois     2.677220e+06\n",
      "13         Indiana     2.249129e+06\n",
      "14            Iowa     2.483902e+06\n",
      "15          Kansas     2.494312e+06\n",
      "16        Kentucky     2.658022e+06\n",
      "17       Louisiana     2.523683e+06\n",
      "18           Maine     2.568687e+06\n",
      "19        Maryland     2.675435e+06\n",
      "20   Massachusetts     2.729340e+06\n",
      "21        Michigan     2.577769e+06\n",
      "22       Minnesota     2.488548e+06\n",
      "23     Mississippi     2.479680e+06\n",
      "24        Missouri     2.633245e+06\n",
      "25         Montana     2.295490e+06\n",
      "26        Nebraska     2.285507e+06\n",
      "27          Nevada     2.686657e+06\n",
      "28   New Hampshire     2.437711e+06\n",
      "29      New Jersey     2.830760e+06\n",
      "30      New Mexico     2.458596e+06\n",
      "31        New York     2.531705e+06\n",
      "32  North Carolina     2.705280e+06\n",
      "33    North Dakota     2.906541e+06\n",
      "34            Ohio     2.545558e+06\n",
      "35        Oklahoma     2.508509e+06\n",
      "36          Oregon     2.582403e+06\n",
      "37    Pennsylvania     2.386869e+06\n",
      "38    Rhode Island     2.536226e+06\n",
      "39  South Carolina     2.417847e+06\n",
      "40    South Dakota     2.583541e+06\n",
      "41       Tennessee     3.002943e+06\n",
      "42           Texas     2.529275e+06\n",
      "43            Utah     2.577854e+06\n",
      "44         Vermont     2.638762e+06\n",
      "45        Virginia     2.691637e+06\n",
      "46      Washington     2.755771e+06\n",
      "47   West Virginia     2.780571e+06\n",
      "48       Wisconsin     2.511768e+06\n",
      "49         Wyoming     2.542694e+06\n"
     ]
    }
   ],
   "source": [
    "query2 = '''\n",
    "SELECT \n",
    "    state,\n",
    "    AVG(loan_amount) AS avg_loan_amount\n",
    "FROM loans\n",
    "GROUP BY state;\n",
    "'''\n",
    "result2 = pd.read_sql_query(query2, conn)\n",
    "print(\"\\nAverage loan amounts per state:\")\n",
    "print(result2)"
   ]
  },
  {
   "cell_type": "code",
   "execution_count": 23,
   "id": "06c5747f-db65-4d40-8084-b1193a04948e",
   "metadata": {},
   "outputs": [
    {
     "name": "stdout",
     "output_type": "stream",
     "text": [
      "\n",
      "Count of loans by status:\n",
      "  loan_status  count\n",
      "0      Active   1737\n",
      "1      Closed   1600\n",
      "2   Defaulted   1663\n"
     ]
    }
   ],
   "source": [
    "query3 = '''\n",
    "SELECT \n",
    "    loan_status,\n",
    "    COUNT(*) AS count\n",
    "FROM loans\n",
    "GROUP BY loan_status;\n",
    "'''\n",
    "result3 = pd.read_sql_query(query3, conn)\n",
    "print(\"\\nCount of loans by status:\")\n",
    "print(result3)\n"
   ]
  },
  {
   "cell_type": "code",
   "execution_count": 24,
   "id": "d0155a56-f8ee-44f6-a2aa-36e8fb26d799",
   "metadata": {},
   "outputs": [],
   "source": [
    "conn.close()"
   ]
  },
  {
   "cell_type": "code",
   "execution_count": 25,
   "id": "cf9b3bd4-85bf-4a62-9a6b-0ff45485172d",
   "metadata": {},
   "outputs": [],
   "source": [
    "import sqlite3\n",
    "import pandas as pd\n",
    "\n",
    "# Step 1: Connect to the SQLite database\n",
    "conn = sqlite3.connect('loan_data.db')\n"
   ]
  },
  {
   "cell_type": "code",
   "execution_count": 26,
   "id": "e666e3f4-c882-49ab-9d4e-813223b825f2",
   "metadata": {},
   "outputs": [
    {
     "name": "stdout",
     "output_type": "stream",
     "text": [
      "Average Loan Amount by Age Group:\n",
      "  age_group  avg_loan_amount\n",
      "0     18-29     2.532283e+06\n",
      "1     30-39     2.561161e+06\n",
      "2     40-49     2.600292e+06\n",
      "3     50-59     2.603419e+06\n",
      "4       60+     2.600632e+06\n"
     ]
    }
   ],
   "source": [
    "query1 = '''\n",
    "SELECT \n",
    "    CASE \n",
    "        WHEN age BETWEEN 18 AND 29 THEN '18-29'\n",
    "        WHEN age BETWEEN 30 AND 39 THEN '30-39'\n",
    "        WHEN age BETWEEN 40 AND 49 THEN '40-49'\n",
    "        WHEN age BETWEEN 50 AND 59 THEN '50-59'\n",
    "        ELSE '60+'\n",
    "    END AS age_group,\n",
    "    AVG(loan_amount) AS avg_loan_amount\n",
    "FROM loans\n",
    "GROUP BY age_group;\n",
    "'''\n",
    "result1 = pd.read_sql_query(query1, conn)\n",
    "print(\"Average Loan Amount by Age Group:\")\n",
    "print(result1)\n"
   ]
  },
  {
   "cell_type": "code",
   "execution_count": 27,
   "id": "95324251-ad73-46a1-8c6c-c6cd6864d2f5",
   "metadata": {},
   "outputs": [
    {
     "name": "stdout",
     "output_type": "stream",
     "text": [
      "\n",
      "Average Loan Amount by City:\n",
      "             city  avg_loan_amount\n",
      "0       Aaronbury        3481267.0\n",
      "1       Aaronstad        1011795.0\n",
      "2       Aarontown        4029062.0\n",
      "3       Aaronview        4191543.0\n",
      "4     Abigailview        4680239.0\n",
      "...           ...              ...\n",
      "4270  Zacharyview        1956847.0\n",
      "4271   Zamoraside         522803.0\n",
      "4272   Zavalabury          52175.0\n",
      "4273     Zoeville        1608544.0\n",
      "4274  Zunigamouth        2515254.0\n",
      "\n",
      "[4275 rows x 2 columns]\n"
     ]
    }
   ],
   "source": [
    "query2 = '''\n",
    "SELECT \n",
    "    city, \n",
    "    AVG(loan_amount) AS avg_loan_amount\n",
    "FROM loans\n",
    "GROUP BY city;\n",
    "'''\n",
    "result2 = pd.read_sql_query(query2, conn)\n",
    "print(\"\\nAverage Loan Amount by City:\")\n",
    "print(result2)\n"
   ]
  },
  {
   "cell_type": "code",
   "execution_count": 28,
   "id": "465ce2e9-3bf2-424d-99f3-6041038fdb9f",
   "metadata": {},
   "outputs": [
    {
     "ename": "ValueError",
     "evalue": "could not convert string to float: 'ec1d4d99-b302-4490-ab73-a151a16bed41'",
     "output_type": "error",
     "traceback": [
      "\u001b[1;31m---------------------------------------------------------------------------\u001b[0m",
      "\u001b[1;31mValueError\u001b[0m                                Traceback (most recent call last)",
      "Cell \u001b[1;32mIn[28], line 9\u001b[0m\n\u001b[0;32m      6\u001b[0m data \u001b[38;5;241m=\u001b[39m pd\u001b[38;5;241m.\u001b[39mread_csv(\u001b[38;5;124m'\u001b[39m\u001b[38;5;124msample_bank_data.csv\u001b[39m\u001b[38;5;124m'\u001b[39m)\n\u001b[0;32m      8\u001b[0m \u001b[38;5;66;03m# Calculate the correlation matrix\u001b[39;00m\n\u001b[1;32m----> 9\u001b[0m correlation_matrix \u001b[38;5;241m=\u001b[39m \u001b[43mdata\u001b[49m\u001b[38;5;241;43m.\u001b[39;49m\u001b[43mcorr\u001b[49m\u001b[43m(\u001b[49m\u001b[43m)\u001b[49m\n\u001b[0;32m     11\u001b[0m \u001b[38;5;66;03m# Plot the correlation heatmap using Seaborn\u001b[39;00m\n\u001b[0;32m     12\u001b[0m plt\u001b[38;5;241m.\u001b[39mfigure(figsize\u001b[38;5;241m=\u001b[39m(\u001b[38;5;241m10\u001b[39m, \u001b[38;5;241m6\u001b[39m))\n",
      "File \u001b[1;32m~\\AppData\\Local\\Programs\\Python\\Python312\\Lib\\site-packages\\pandas\\core\\frame.py:11049\u001b[0m, in \u001b[0;36mDataFrame.corr\u001b[1;34m(self, method, min_periods, numeric_only)\u001b[0m\n\u001b[0;32m  11047\u001b[0m cols \u001b[38;5;241m=\u001b[39m data\u001b[38;5;241m.\u001b[39mcolumns\n\u001b[0;32m  11048\u001b[0m idx \u001b[38;5;241m=\u001b[39m cols\u001b[38;5;241m.\u001b[39mcopy()\n\u001b[1;32m> 11049\u001b[0m mat \u001b[38;5;241m=\u001b[39m \u001b[43mdata\u001b[49m\u001b[38;5;241;43m.\u001b[39;49m\u001b[43mto_numpy\u001b[49m\u001b[43m(\u001b[49m\u001b[43mdtype\u001b[49m\u001b[38;5;241;43m=\u001b[39;49m\u001b[38;5;28;43mfloat\u001b[39;49m\u001b[43m,\u001b[49m\u001b[43m \u001b[49m\u001b[43mna_value\u001b[49m\u001b[38;5;241;43m=\u001b[39;49m\u001b[43mnp\u001b[49m\u001b[38;5;241;43m.\u001b[39;49m\u001b[43mnan\u001b[49m\u001b[43m,\u001b[49m\u001b[43m \u001b[49m\u001b[43mcopy\u001b[49m\u001b[38;5;241;43m=\u001b[39;49m\u001b[38;5;28;43;01mFalse\u001b[39;49;00m\u001b[43m)\u001b[49m\n\u001b[0;32m  11051\u001b[0m \u001b[38;5;28;01mif\u001b[39;00m method \u001b[38;5;241m==\u001b[39m \u001b[38;5;124m\"\u001b[39m\u001b[38;5;124mpearson\u001b[39m\u001b[38;5;124m\"\u001b[39m:\n\u001b[0;32m  11052\u001b[0m     correl \u001b[38;5;241m=\u001b[39m libalgos\u001b[38;5;241m.\u001b[39mnancorr(mat, minp\u001b[38;5;241m=\u001b[39mmin_periods)\n",
      "File \u001b[1;32m~\\AppData\\Local\\Programs\\Python\\Python312\\Lib\\site-packages\\pandas\\core\\frame.py:1993\u001b[0m, in \u001b[0;36mDataFrame.to_numpy\u001b[1;34m(self, dtype, copy, na_value)\u001b[0m\n\u001b[0;32m   1991\u001b[0m \u001b[38;5;28;01mif\u001b[39;00m dtype \u001b[38;5;129;01mis\u001b[39;00m \u001b[38;5;129;01mnot\u001b[39;00m \u001b[38;5;28;01mNone\u001b[39;00m:\n\u001b[0;32m   1992\u001b[0m     dtype \u001b[38;5;241m=\u001b[39m np\u001b[38;5;241m.\u001b[39mdtype(dtype)\n\u001b[1;32m-> 1993\u001b[0m result \u001b[38;5;241m=\u001b[39m \u001b[38;5;28;43mself\u001b[39;49m\u001b[38;5;241;43m.\u001b[39;49m\u001b[43m_mgr\u001b[49m\u001b[38;5;241;43m.\u001b[39;49m\u001b[43mas_array\u001b[49m\u001b[43m(\u001b[49m\u001b[43mdtype\u001b[49m\u001b[38;5;241;43m=\u001b[39;49m\u001b[43mdtype\u001b[49m\u001b[43m,\u001b[49m\u001b[43m \u001b[49m\u001b[43mcopy\u001b[49m\u001b[38;5;241;43m=\u001b[39;49m\u001b[43mcopy\u001b[49m\u001b[43m,\u001b[49m\u001b[43m \u001b[49m\u001b[43mna_value\u001b[49m\u001b[38;5;241;43m=\u001b[39;49m\u001b[43mna_value\u001b[49m\u001b[43m)\u001b[49m\n\u001b[0;32m   1994\u001b[0m \u001b[38;5;28;01mif\u001b[39;00m result\u001b[38;5;241m.\u001b[39mdtype \u001b[38;5;129;01mis\u001b[39;00m \u001b[38;5;129;01mnot\u001b[39;00m dtype:\n\u001b[0;32m   1995\u001b[0m     result \u001b[38;5;241m=\u001b[39m np\u001b[38;5;241m.\u001b[39masarray(result, dtype\u001b[38;5;241m=\u001b[39mdtype)\n",
      "File \u001b[1;32m~\\AppData\\Local\\Programs\\Python\\Python312\\Lib\\site-packages\\pandas\\core\\internals\\managers.py:1694\u001b[0m, in \u001b[0;36mBlockManager.as_array\u001b[1;34m(self, dtype, copy, na_value)\u001b[0m\n\u001b[0;32m   1692\u001b[0m         arr\u001b[38;5;241m.\u001b[39mflags\u001b[38;5;241m.\u001b[39mwriteable \u001b[38;5;241m=\u001b[39m \u001b[38;5;28;01mFalse\u001b[39;00m\n\u001b[0;32m   1693\u001b[0m \u001b[38;5;28;01melse\u001b[39;00m:\n\u001b[1;32m-> 1694\u001b[0m     arr \u001b[38;5;241m=\u001b[39m \u001b[38;5;28;43mself\u001b[39;49m\u001b[38;5;241;43m.\u001b[39;49m\u001b[43m_interleave\u001b[49m\u001b[43m(\u001b[49m\u001b[43mdtype\u001b[49m\u001b[38;5;241;43m=\u001b[39;49m\u001b[43mdtype\u001b[49m\u001b[43m,\u001b[49m\u001b[43m \u001b[49m\u001b[43mna_value\u001b[49m\u001b[38;5;241;43m=\u001b[39;49m\u001b[43mna_value\u001b[49m\u001b[43m)\u001b[49m\n\u001b[0;32m   1695\u001b[0m     \u001b[38;5;66;03m# The underlying data was copied within _interleave, so no need\u001b[39;00m\n\u001b[0;32m   1696\u001b[0m     \u001b[38;5;66;03m# to further copy if copy=True or setting na_value\u001b[39;00m\n\u001b[0;32m   1698\u001b[0m \u001b[38;5;28;01mif\u001b[39;00m na_value \u001b[38;5;129;01mis\u001b[39;00m lib\u001b[38;5;241m.\u001b[39mno_default:\n",
      "File \u001b[1;32m~\\AppData\\Local\\Programs\\Python\\Python312\\Lib\\site-packages\\pandas\\core\\internals\\managers.py:1753\u001b[0m, in \u001b[0;36mBlockManager._interleave\u001b[1;34m(self, dtype, na_value)\u001b[0m\n\u001b[0;32m   1751\u001b[0m     \u001b[38;5;28;01melse\u001b[39;00m:\n\u001b[0;32m   1752\u001b[0m         arr \u001b[38;5;241m=\u001b[39m blk\u001b[38;5;241m.\u001b[39mget_values(dtype)\n\u001b[1;32m-> 1753\u001b[0m     \u001b[43mresult\u001b[49m\u001b[43m[\u001b[49m\u001b[43mrl\u001b[49m\u001b[38;5;241;43m.\u001b[39;49m\u001b[43mindexer\u001b[49m\u001b[43m]\u001b[49m \u001b[38;5;241m=\u001b[39m arr\n\u001b[0;32m   1754\u001b[0m     itemmask[rl\u001b[38;5;241m.\u001b[39mindexer] \u001b[38;5;241m=\u001b[39m \u001b[38;5;241m1\u001b[39m\n\u001b[0;32m   1756\u001b[0m \u001b[38;5;28;01mif\u001b[39;00m \u001b[38;5;129;01mnot\u001b[39;00m itemmask\u001b[38;5;241m.\u001b[39mall():\n",
      "\u001b[1;31mValueError\u001b[0m: could not convert string to float: 'ec1d4d99-b302-4490-ab73-a151a16bed41'"
     ]
    }
   ],
   "source": [
    "import pandas as pd\n",
    "import seaborn as sns\n",
    "import matplotlib.pyplot as plt\n",
    "\n",
    "# Load the dataset (from SQLite or CSV)\n",
    "data = pd.read_csv('sample_bank_data.csv')\n",
    "\n",
    "# Calculate the correlation matrix\n",
    "correlation_matrix = data.corr()\n",
    "\n",
    "# Plot the correlation heatmap using Seaborn\n",
    "plt.figure(figsize=(10, 6))\n",
    "sns.heatmap(correlation_matrix, annot=True, cmap='coolwarm')\n",
    "plt.title(\"Correlation Matrix of Loan Data\")\n",
    "plt.show()"
   ]
  },
  {
   "cell_type": "code",
   "execution_count": 30,
   "id": "00e624ed-7c89-4c8c-8fd0-67e5e2d6dce0",
   "metadata": {
    "scrolled": true
   },
   "outputs": [
    {
     "data": {
      "image/png": "[encoded data removed]",
      "text/plain": [
       "<Figure size 1000x600 with 2 Axes>"
      ]
     },
     "metadata": {},
     "output_type": "display_data"
    }
   ],
   "source": [
    "import pandas as pd\n",
    "import seaborn as sns\n",
    "import matplotlib.pyplot as plt\n",
    "\n",
    "# Load the dataset (from CSV)\n",
    "data = pd.read_csv('sample_bank_data.csv')\n",
    "\n",
    "# Select only numeric columns for correlation calculation\n",
    "numeric_data = data.select_dtypes(include=['float64', 'int64'])\n",
    "\n",
    "# Calculate the correlation matrix\n",
    "correlation_matrix = numeric_data.corr()\n",
    "\n",
    "# Plot the correlation heatmap using Seaborn\n",
    "plt.figure(figsize=(10, 6))\n",
    "sns.heatmap(correlation_matrix, annot=True, cmap='coolwarm')\n",
    "plt.title(\"Correlation Matrix of Loan Data\")\n",
    "plt.show()\n"
   ]
  },
  {
   "cell_type": "code",
   "execution_count": 31,
   "id": "115c49b4-76eb-4f7a-8370-c2df8304a2da",
   "metadata": {},
   "outputs": [
    {
     "ename": "ValueError",
     "evalue": "could not convert string to float: 'Closed'",
     "output_type": "error",
     "traceback": [
      "\u001b[1;31m---------------------------------------------------------------------------\u001b[0m",
      "\u001b[1;31mValueError\u001b[0m                                Traceback (most recent call last)",
      "Cell \u001b[1;32mIn[31], line 1\u001b[0m\n\u001b[1;32m----> 1\u001b[0m income_correlation \u001b[38;5;241m=\u001b[39m \u001b[43mdata\u001b[49m\u001b[43m[\u001b[49m\u001b[43m[\u001b[49m\u001b[38;5;124;43m'\u001b[39;49m\u001b[38;5;124;43mincome\u001b[39;49m\u001b[38;5;124;43m'\u001b[39;49m\u001b[43m,\u001b[49m\u001b[43m \u001b[49m\u001b[38;5;124;43m'\u001b[39;49m\u001b[38;5;124;43mloan_status\u001b[39;49m\u001b[38;5;124;43m'\u001b[39;49m\u001b[43m]\u001b[49m\u001b[43m]\u001b[49m\u001b[38;5;241;43m.\u001b[39;49m\u001b[43mcorr\u001b[49m\u001b[43m(\u001b[49m\u001b[43m)\u001b[49m\n\u001b[0;32m      2\u001b[0m \u001b[38;5;28mprint\u001b[39m(\u001b[38;5;124m\"\u001b[39m\u001b[38;5;124mCorrelation between Income and Loan Status:\u001b[39m\u001b[38;5;130;01m\\n\u001b[39;00m\u001b[38;5;124m\"\u001b[39m, income_correlation)\n",
      "File \u001b[1;32m~\\AppData\\Local\\Programs\\Python\\Python312\\Lib\\site-packages\\pandas\\core\\frame.py:11049\u001b[0m, in \u001b[0;36mDataFrame.corr\u001b[1;34m(self, method, min_periods, numeric_only)\u001b[0m\n\u001b[0;32m  11047\u001b[0m cols \u001b[38;5;241m=\u001b[39m data\u001b[38;5;241m.\u001b[39mcolumns\n\u001b[0;32m  11048\u001b[0m idx \u001b[38;5;241m=\u001b[39m cols\u001b[38;5;241m.\u001b[39mcopy()\n\u001b[1;32m> 11049\u001b[0m mat \u001b[38;5;241m=\u001b[39m \u001b[43mdata\u001b[49m\u001b[38;5;241;43m.\u001b[39;49m\u001b[43mto_numpy\u001b[49m\u001b[43m(\u001b[49m\u001b[43mdtype\u001b[49m\u001b[38;5;241;43m=\u001b[39;49m\u001b[38;5;28;43mfloat\u001b[39;49m\u001b[43m,\u001b[49m\u001b[43m \u001b[49m\u001b[43mna_value\u001b[49m\u001b[38;5;241;43m=\u001b[39;49m\u001b[43mnp\u001b[49m\u001b[38;5;241;43m.\u001b[39;49m\u001b[43mnan\u001b[49m\u001b[43m,\u001b[49m\u001b[43m \u001b[49m\u001b[43mcopy\u001b[49m\u001b[38;5;241;43m=\u001b[39;49m\u001b[38;5;28;43;01mFalse\u001b[39;49;00m\u001b[43m)\u001b[49m\n\u001b[0;32m  11051\u001b[0m \u001b[38;5;28;01mif\u001b[39;00m method \u001b[38;5;241m==\u001b[39m \u001b[38;5;124m\"\u001b[39m\u001b[38;5;124mpearson\u001b[39m\u001b[38;5;124m\"\u001b[39m:\n\u001b[0;32m  11052\u001b[0m     correl \u001b[38;5;241m=\u001b[39m libalgos\u001b[38;5;241m.\u001b[39mnancorr(mat, minp\u001b[38;5;241m=\u001b[39mmin_periods)\n",
      "File \u001b[1;32m~\\AppData\\Local\\Programs\\Python\\Python312\\Lib\\site-packages\\pandas\\core\\frame.py:1993\u001b[0m, in \u001b[0;36mDataFrame.to_numpy\u001b[1;34m(self, dtype, copy, na_value)\u001b[0m\n\u001b[0;32m   1991\u001b[0m \u001b[38;5;28;01mif\u001b[39;00m dtype \u001b[38;5;129;01mis\u001b[39;00m \u001b[38;5;129;01mnot\u001b[39;00m \u001b[38;5;28;01mNone\u001b[39;00m:\n\u001b[0;32m   1992\u001b[0m     dtype \u001b[38;5;241m=\u001b[39m np\u001b[38;5;241m.\u001b[39mdtype(dtype)\n\u001b[1;32m-> 1993\u001b[0m result \u001b[38;5;241m=\u001b[39m \u001b[38;5;28;43mself\u001b[39;49m\u001b[38;5;241;43m.\u001b[39;49m\u001b[43m_mgr\u001b[49m\u001b[38;5;241;43m.\u001b[39;49m\u001b[43mas_array\u001b[49m\u001b[43m(\u001b[49m\u001b[43mdtype\u001b[49m\u001b[38;5;241;43m=\u001b[39;49m\u001b[43mdtype\u001b[49m\u001b[43m,\u001b[49m\u001b[43m \u001b[49m\u001b[43mcopy\u001b[49m\u001b[38;5;241;43m=\u001b[39;49m\u001b[43mcopy\u001b[49m\u001b[43m,\u001b[49m\u001b[43m \u001b[49m\u001b[43mna_value\u001b[49m\u001b[38;5;241;43m=\u001b[39;49m\u001b[43mna_value\u001b[49m\u001b[43m)\u001b[49m\n\u001b[0;32m   1994\u001b[0m \u001b[38;5;28;01mif\u001b[39;00m result\u001b[38;5;241m.\u001b[39mdtype \u001b[38;5;129;01mis\u001b[39;00m \u001b[38;5;129;01mnot\u001b[39;00m dtype:\n\u001b[0;32m   1995\u001b[0m     result \u001b[38;5;241m=\u001b[39m np\u001b[38;5;241m.\u001b[39masarray(result, dtype\u001b[38;5;241m=\u001b[39mdtype)\n",
      "File \u001b[1;32m~\\AppData\\Local\\Programs\\Python\\Python312\\Lib\\site-packages\\pandas\\core\\internals\\managers.py:1694\u001b[0m, in \u001b[0;36mBlockManager.as_array\u001b[1;34m(self, dtype, copy, na_value)\u001b[0m\n\u001b[0;32m   1692\u001b[0m         arr\u001b[38;5;241m.\u001b[39mflags\u001b[38;5;241m.\u001b[39mwriteable \u001b[38;5;241m=\u001b[39m \u001b[38;5;28;01mFalse\u001b[39;00m\n\u001b[0;32m   1693\u001b[0m \u001b[38;5;28;01melse\u001b[39;00m:\n\u001b[1;32m-> 1694\u001b[0m     arr \u001b[38;5;241m=\u001b[39m \u001b[38;5;28;43mself\u001b[39;49m\u001b[38;5;241;43m.\u001b[39;49m\u001b[43m_interleave\u001b[49m\u001b[43m(\u001b[49m\u001b[43mdtype\u001b[49m\u001b[38;5;241;43m=\u001b[39;49m\u001b[43mdtype\u001b[49m\u001b[43m,\u001b[49m\u001b[43m \u001b[49m\u001b[43mna_value\u001b[49m\u001b[38;5;241;43m=\u001b[39;49m\u001b[43mna_value\u001b[49m\u001b[43m)\u001b[49m\n\u001b[0;32m   1695\u001b[0m     \u001b[38;5;66;03m# The underlying data was copied within _interleave, so no need\u001b[39;00m\n\u001b[0;32m   1696\u001b[0m     \u001b[38;5;66;03m# to further copy if copy=True or setting na_value\u001b[39;00m\n\u001b[0;32m   1698\u001b[0m \u001b[38;5;28;01mif\u001b[39;00m na_value \u001b[38;5;129;01mis\u001b[39;00m lib\u001b[38;5;241m.\u001b[39mno_default:\n",
      "File \u001b[1;32m~\\AppData\\Local\\Programs\\Python\\Python312\\Lib\\site-packages\\pandas\\core\\internals\\managers.py:1753\u001b[0m, in \u001b[0;36mBlockManager._interleave\u001b[1;34m(self, dtype, na_value)\u001b[0m\n\u001b[0;32m   1751\u001b[0m     \u001b[38;5;28;01melse\u001b[39;00m:\n\u001b[0;32m   1752\u001b[0m         arr \u001b[38;5;241m=\u001b[39m blk\u001b[38;5;241m.\u001b[39mget_values(dtype)\n\u001b[1;32m-> 1753\u001b[0m     \u001b[43mresult\u001b[49m\u001b[43m[\u001b[49m\u001b[43mrl\u001b[49m\u001b[38;5;241;43m.\u001b[39;49m\u001b[43mindexer\u001b[49m\u001b[43m]\u001b[49m \u001b[38;5;241m=\u001b[39m arr\n\u001b[0;32m   1754\u001b[0m     itemmask[rl\u001b[38;5;241m.\u001b[39mindexer] \u001b[38;5;241m=\u001b[39m \u001b[38;5;241m1\u001b[39m\n\u001b[0;32m   1756\u001b[0m \u001b[38;5;28;01mif\u001b[39;00m \u001b[38;5;129;01mnot\u001b[39;00m itemmask\u001b[38;5;241m.\u001b[39mall():\n",
      "\u001b[1;31mValueError\u001b[0m: could not convert string to float: 'Closed'"
     ]
    }
   ],
   "source": [
    "income_correlation = data[['income', 'loan_status']].corr()\n",
    "print(\"Correlation between Income and Loan Status:\\n\", income_correlation)"
   ]
  },
  {
   "cell_type": "code",
   "execution_count": 32,
   "id": "16524cc7-ff09-48d4-bc7d-f9f20014d0b9",
   "metadata": {},
   "outputs": [
    {
     "name": "stdout",
     "output_type": "stream",
     "text": [
      "Correlation between Income and Loan Status:\n",
      "                      income  loan_status_numeric\n",
      "income                  1.0                  NaN\n",
      "loan_status_numeric     NaN                  NaN\n"
     ]
    }
   ],
   "source": [
    "import pandas as pd\n",
    "\n",
    "# Load the dataset (from CSV)\n",
    "data = pd.read_csv('sample_bank_data.csv')\n",
    "\n",
    "# Convert the 'loan_status' column to numerical values\n",
    "# Assuming 'Closed' = 1 and 'Open' = 0 (you can adjust as per your data)\n",
    "data['loan_status_numeric'] = data['loan_status'].map({'Closed': 1, 'Open': 0})\n",
    "\n",
    "# Calculate the correlation between 'income' and the numerical 'loan_status'\n",
    "income_correlation = data[['income', 'loan_status_numeric']].corr()\n",
    "\n",
    "# Print the correlation\n",
    "print(\"Correlation between Income and Loan Status:\\n\", income_correlation)\n"
   ]
  },
  {
   "cell_type": "code",
   "execution_count": 33,
   "id": "7cae6345-d27b-49ed-afba-2cd65e39dc01",
   "metadata": {},
   "outputs": [
    {
     "name": "stdout",
     "output_type": "stream",
     "text": [
      "\n",
      "Interest Rates Summary by Loan Type:\n",
      "   loan_type  total_loans  avg_interest_rate  min_interest_rate  \\\n",
      "0       Auto          976          12.637295               5.00   \n",
      "1   Business         1029          12.457143               5.00   \n",
      "2  Education          966          12.821398               5.02   \n",
      "3       Home         1014          12.634882               5.01   \n",
      "4   Personal         1015          12.529123               5.01   \n",
      "\n",
      "   max_interest_rate  \n",
      "0              20.00  \n",
      "1              19.97  \n",
      "2              20.00  \n",
      "3              20.00  \n",
      "4              19.99  \n"
     ]
    }
   ],
   "source": [
    "query3 = '''\n",
    "SELECT \n",
    "    loan_type, \n",
    "    COUNT(*) AS total_loans,\n",
    "    AVG(interest_rate) AS avg_interest_rate,\n",
    "    MIN(interest_rate) AS min_interest_rate,\n",
    "    MAX(interest_rate) AS max_interest_rate\n",
    "FROM loans\n",
    "GROUP BY loan_type;\n",
    "'''\n",
    "result3 = pd.read_sql_query(query3, conn)\n",
    "print(\"\\nInterest Rates Summary by Loan Type:\")\n",
    "print(result3)\n"
   ]
  },
  {
   "cell_type": "code",
   "execution_count": 34,
   "id": "41723a38-c9ce-42b5-96c0-f417e18e8bbd",
   "metadata": {},
   "outputs": [
    {
     "ename": "ModuleNotFoundError",
     "evalue": "No module named 'sklearn'",
     "output_type": "error",
     "traceback": [
      "\u001b[1;31m---------------------------------------------------------------------------\u001b[0m",
      "\u001b[1;31mModuleNotFoundError\u001b[0m                       Traceback (most recent call last)",
      "Cell \u001b[1;32mIn[34], line 1\u001b[0m\n\u001b[1;32m----> 1\u001b[0m \u001b[38;5;28;01mfrom\u001b[39;00m \u001b[38;5;21;01msklearn\u001b[39;00m\u001b[38;5;21;01m.\u001b[39;00m\u001b[38;5;21;01mmodel_selection\u001b[39;00m \u001b[38;5;28;01mimport\u001b[39;00m train_test_split\n\u001b[0;32m      2\u001b[0m \u001b[38;5;28;01mfrom\u001b[39;00m \u001b[38;5;21;01msklearn\u001b[39;00m\u001b[38;5;21;01m.\u001b[39;00m\u001b[38;5;21;01mlinear_model\u001b[39;00m \u001b[38;5;28;01mimport\u001b[39;00m LinearRegression\n\u001b[0;32m      4\u001b[0m \u001b[38;5;66;03m# Selecting features and target variable\u001b[39;00m\n",
      "\u001b[1;31mModuleNotFoundError\u001b[0m: No module named 'sklearn'"
     ]
    }
   ],
   "source": [
    "from sklearn.model_selection import train_test_split\n",
    "from sklearn.linear_model import LinearRegression\n",
    "\n",
    "# Selecting features and target variable\n",
    "X = data[['income']]  # Independent variable\n",
    "y = data['loan_amount']  # Dependent variable\n",
    "\n",
    "# Splitting the dataset into training and testing sets\n",
    "X_train, X_test, y_train, y_test = train_test_split(X, y, test_size=0.2, random_state=42)\n",
    "\n",
    "# Creating and training the regression model\n",
    "model = LinearRegression()\n",
    "model.fit(X_train, y_train)\n",
    "\n",
    "# Checking the coefficient (relationship between income and loan amount)\n",
    "print(\"Coefficient for Income and Loan Amount:\", model.coef_)\n"
   ]
  },
  {
   "cell_type": "code",
   "execution_count": 35,
   "id": "4e0a5aea-0ca7-4f58-9f2f-aef19f77c4d1",
   "metadata": {},
   "outputs": [
    {
     "name": "stdout",
     "output_type": "stream",
     "text": [
      "Collecting scikit-learn\n",
      "  Downloading scikit_learn-1.5.2-cp312-cp312-win_amd64.whl.metadata (13 kB)\n",
      "Requirement already satisfied: numpy>=1.19.5 in c:\\users\\pc\\appdata\\local\\programs\\python\\python312\\lib\\site-packages (from scikit-learn) (2.1.1)\n",
      "Collecting scipy>=1.6.0 (from scikit-learn)\n",
      "  Downloading scipy-1.14.1-cp312-cp312-win_amd64.whl.metadata (60 kB)\n",
      "Collecting joblib>=1.2.0 (from scikit-learn)\n",
      "  Downloading joblib-1.4.2-py3-none-any.whl.metadata (5.4 kB)\n",
      "Collecting threadpoolctl>=3.1.0 (from scikit-learn)\n",
      "  Downloading threadpoolctl-3.5.0-py3-none-any.whl.metadata (13 kB)\n",
      "Downloading scikit_learn-1.5.2-cp312-cp312-win_amd64.whl (11.0 MB)\n",
      "   ---------------------------------------- 0.0/11.0 MB ? eta -:--:--\n",
      "   ---------------------------------------- 0.0/11.0 MB ? eta -:--:--\n",
      "    --------------------------------------- 0.3/11.0 MB ? eta -:--:--\n",
      "    --------------------------------------- 0.3/11.0 MB ? eta -:--:--\n",
      "   - -------------------------------------- 0.5/11.0 MB 493.7 kB/s eta 0:00:22\n",
      "   - -------------------------------------- 0.5/11.0 MB 493.7 kB/s eta 0:00:22\n",
      "   -- ------------------------------------- 0.8/11.0 MB 645.7 kB/s eta 0:00:16\n",
      "   --- ------------------------------------ 1.0/11.0 MB 751.1 kB/s eta 0:00:14\n",
      "   ---- ----------------------------------- 1.3/11.0 MB 808.5 kB/s eta 0:00:12\n",
      "   ----- ---------------------------------- 1.6/11.0 MB 865.2 kB/s eta 0:00:11\n",
      "   ------ --------------------------------- 1.8/11.0 MB 915.5 kB/s eta 0:00:10\n",
      "   ------- -------------------------------- 2.1/11.0 MB 962.8 kB/s eta 0:00:10\n",
      "   -------- ------------------------------- 2.4/11.0 MB 972.7 kB/s eta 0:00:09\n",
      "   ---------- ----------------------------- 2.9/11.0 MB 1.0 MB/s eta 0:00:08\n",
      "   ----------- ---------------------------- 3.1/11.0 MB 1.1 MB/s eta 0:00:08\n",
      "   ------------- -------------------------- 3.7/11.0 MB 1.2 MB/s eta 0:00:07\n",
      "   --------------- ------------------------ 4.2/11.0 MB 1.2 MB/s eta 0:00:06\n",
      "   ---------------- ----------------------- 4.5/11.0 MB 1.3 MB/s eta 0:00:06\n",
      "   ------------------ --------------------- 5.0/11.0 MB 1.3 MB/s eta 0:00:05\n",
      "   -------------------- ------------------- 5.5/11.0 MB 1.4 MB/s eta 0:00:04\n",
      "   -------------------- ------------------- 5.8/11.0 MB 1.4 MB/s eta 0:00:04\n",
      "   ---------------------- ----------------- 6.3/11.0 MB 1.5 MB/s eta 0:00:04\n",
      "   ------------------------ --------------- 6.8/11.0 MB 1.5 MB/s eta 0:00:03\n",
      "   -------------------------- ------------- 7.3/11.0 MB 1.5 MB/s eta 0:00:03\n",
      "   ---------------------------- ----------- 7.9/11.0 MB 1.6 MB/s eta 0:00:02\n",
      "   ------------------------------ --------- 8.4/11.0 MB 1.6 MB/s eta 0:00:02\n",
      "   -------------------------------- ------- 8.9/11.0 MB 1.7 MB/s eta 0:00:02\n",
      "   ----------------------------------- ---- 9.7/11.0 MB 1.7 MB/s eta 0:00:01\n",
      "   ------------------------------------- -- 10.2/11.0 MB 1.8 MB/s eta 0:00:01\n",
      "   ---------------------------------------  10.7/11.0 MB 1.8 MB/s eta 0:00:01\n",
      "   ---------------------------------------- 11.0/11.0 MB 1.8 MB/s eta 0:00:00\n",
      "Downloading joblib-1.4.2-py3-none-any.whl (301 kB)\n",
      "Downloading scipy-1.14.1-cp312-cp312-win_amd64.whl (44.5 MB)\n",
      "   ---------------------------------------- 0.0/44.5 MB ? eta -:--:--\n",
      "   ---------------------------------------- 0.5/44.5 MB 2.8 MB/s eta 0:00:16\n",
      "   - -------------------------------------- 1.3/44.5 MB 3.0 MB/s eta 0:00:15\n",
      "   - -------------------------------------- 1.6/44.5 MB 2.8 MB/s eta 0:00:16\n",
      "   -- ------------------------------------- 2.4/44.5 MB 2.9 MB/s eta 0:00:15\n",
      "   -- ------------------------------------- 2.9/44.5 MB 2.8 MB/s eta 0:00:15\n",
      "   --- ------------------------------------ 3.4/44.5 MB 2.8 MB/s eta 0:00:15\n",
      "   --- ------------------------------------ 4.2/44.5 MB 2.8 MB/s eta 0:00:15\n",
      "   ---- ----------------------------------- 4.7/44.5 MB 2.8 MB/s eta 0:00:15\n",
      "   ---- ----------------------------------- 5.5/44.5 MB 2.8 MB/s eta 0:00:14\n",
      "   ----- ---------------------------------- 5.8/44.5 MB 2.8 MB/s eta 0:00:14\n",
      "   ----- ---------------------------------- 6.6/44.5 MB 2.8 MB/s eta 0:00:14\n",
      "   ------ --------------------------------- 7.1/44.5 MB 2.7 MB/s eta 0:00:14\n",
      "   ------ --------------------------------- 7.3/44.5 MB 2.6 MB/s eta 0:00:15\n",
      "   ------- -------------------------------- 7.9/44.5 MB 2.6 MB/s eta 0:00:15\n",
      "   ------- -------------------------------- 8.1/44.5 MB 2.5 MB/s eta 0:00:15\n",
      "   ------- -------------------------------- 8.7/44.5 MB 2.5 MB/s eta 0:00:15\n",
      "   -------- ------------------------------- 8.9/44.5 MB 2.4 MB/s eta 0:00:15\n",
      "   -------- ------------------------------- 9.4/44.5 MB 2.5 MB/s eta 0:00:15\n",
      "   -------- ------------------------------- 9.7/44.5 MB 2.4 MB/s eta 0:00:15\n",
      "   --------- ------------------------------ 10.2/44.5 MB 2.4 MB/s eta 0:00:15\n",
      "   --------- ------------------------------ 11.0/44.5 MB 2.4 MB/s eta 0:00:15\n",
      "   ---------- ----------------------------- 11.3/44.5 MB 2.4 MB/s eta 0:00:14\n",
      "   ---------- ----------------------------- 11.8/44.5 MB 2.4 MB/s eta 0:00:14\n",
      "   ----------- ---------------------------- 12.3/44.5 MB 2.4 MB/s eta 0:00:14\n",
      "   ----------- ---------------------------- 12.8/44.5 MB 2.4 MB/s eta 0:00:14\n",
      "   ------------ --------------------------- 13.4/44.5 MB 2.4 MB/s eta 0:00:13\n",
      "   ------------ --------------------------- 14.2/44.5 MB 2.4 MB/s eta 0:00:13\n",
      "   ------------ --------------------------- 14.4/44.5 MB 2.4 MB/s eta 0:00:13\n",
      "   ------------- -------------------------- 14.9/44.5 MB 2.4 MB/s eta 0:00:13\n",
      "   ------------- -------------------------- 15.2/44.5 MB 2.4 MB/s eta 0:00:13\n",
      "   -------------- ------------------------- 16.0/44.5 MB 2.4 MB/s eta 0:00:12\n",
      "   -------------- ------------------------- 16.5/44.5 MB 2.4 MB/s eta 0:00:12\n",
      "   --------------- ------------------------ 16.8/44.5 MB 2.3 MB/s eta 0:00:12\n",
      "   --------------- ------------------------ 17.3/44.5 MB 2.4 MB/s eta 0:00:12\n",
      "   ---------------- ----------------------- 18.1/44.5 MB 2.4 MB/s eta 0:00:12\n",
      "   ---------------- ----------------------- 18.4/44.5 MB 2.4 MB/s eta 0:00:11\n",
      "   ----------------- ---------------------- 19.1/44.5 MB 2.4 MB/s eta 0:00:11\n",
      "   ----------------- ---------------------- 19.9/44.5 MB 2.4 MB/s eta 0:00:11\n",
      "   ------------------ --------------------- 20.4/44.5 MB 2.4 MB/s eta 0:00:10\n",
      "   ------------------ --------------------- 21.0/44.5 MB 2.4 MB/s eta 0:00:10\n",
      "   ------------------- -------------------- 21.8/44.5 MB 2.5 MB/s eta 0:00:10\n",
      "   -------------------- ------------------- 22.5/44.5 MB 2.5 MB/s eta 0:00:09\n",
      "   -------------------- ------------------- 23.3/44.5 MB 2.5 MB/s eta 0:00:09\n",
      "   --------------------- ------------------ 24.1/44.5 MB 2.5 MB/s eta 0:00:09\n",
      "   ---------------------- ----------------- 24.9/44.5 MB 2.6 MB/s eta 0:00:08\n",
      "   ----------------------- ---------------- 25.7/44.5 MB 2.6 MB/s eta 0:00:08\n",
      "   ----------------------- ---------------- 26.5/44.5 MB 2.6 MB/s eta 0:00:07\n",
      "   ------------------------ --------------- 27.3/44.5 MB 2.6 MB/s eta 0:00:07\n",
      "   ------------------------- -------------- 28.0/44.5 MB 2.7 MB/s eta 0:00:07\n",
      "   ------------------------- -------------- 28.8/44.5 MB 2.7 MB/s eta 0:00:06\n",
      "   -------------------------- ------------- 29.9/44.5 MB 2.7 MB/s eta 0:00:06\n",
      "   --------------------------- ------------ 30.7/44.5 MB 2.7 MB/s eta 0:00:06\n",
      "   ---------------------------- ----------- 31.5/44.5 MB 2.8 MB/s eta 0:00:05\n",
      "   ---------------------------- ----------- 32.2/44.5 MB 2.8 MB/s eta 0:00:05\n",
      "   ----------------------------- ---------- 33.0/44.5 MB 2.8 MB/s eta 0:00:05\n",
      "   ------------------------------ --------- 33.8/44.5 MB 2.8 MB/s eta 0:00:04\n",
      "   ------------------------------- -------- 34.6/44.5 MB 2.8 MB/s eta 0:00:04\n",
      "   ------------------------------- -------- 35.4/44.5 MB 2.8 MB/s eta 0:00:04\n",
      "   -------------------------------- ------- 36.4/44.5 MB 2.9 MB/s eta 0:00:03\n",
      "   --------------------------------- ------ 37.2/44.5 MB 2.9 MB/s eta 0:00:03\n",
      "   ---------------------------------- ----- 38.3/44.5 MB 2.9 MB/s eta 0:00:03\n",
      "   ---------------------------------- ----- 38.8/44.5 MB 2.9 MB/s eta 0:00:02\n",
      "   ----------------------------------- ---- 39.8/44.5 MB 2.9 MB/s eta 0:00:02\n",
      "   ------------------------------------ --- 40.6/44.5 MB 2.9 MB/s eta 0:00:02\n",
      "   ------------------------------------- -- 41.4/44.5 MB 3.0 MB/s eta 0:00:02\n",
      "   ------------------------------------- -- 42.2/44.5 MB 3.0 MB/s eta 0:00:01\n",
      "   -------------------------------------- - 43.3/44.5 MB 3.0 MB/s eta 0:00:01\n",
      "   ---------------------------------------  44.3/44.5 MB 3.0 MB/s eta 0:00:01\n",
      "   ---------------------------------------  44.3/44.5 MB 3.0 MB/s eta 0:00:01\n",
      "   ---------------------------------------- 44.5/44.5 MB 3.0 MB/s eta 0:00:00\n",
      "Downloading threadpoolctl-3.5.0-py3-none-any.whl (18 kB)\n",
      "Installing collected packages: threadpoolctl, scipy, joblib, scikit-learn\n",
      "Successfully installed joblib-1.4.2 scikit-learn-1.5.2 scipy-1.14.1 threadpoolctl-3.5.0\n"
     ]
    }
   ],
   "source": [
    "!pip install scikit-learn\n",
    "\n"
   ]
  },
  {
   "cell_type": "code",
   "execution_count": 36,
   "id": "2f558cfe-6cdd-42ad-9984-038ec6477425",
   "metadata": {},
   "outputs": [
    {
     "name": "stdout",
     "output_type": "stream",
     "text": [
      "Coefficient for Income and Loan Amount: [0.03108326]\n"
     ]
    }
   ],
   "source": [
    "from sklearn.model_selection import train_test_split\n",
    "from sklearn.linear_model import LinearRegression\n",
    "\n",
    "# Selecting features and target variable\n",
    "X = data[['income']]  # Independent variable\n",
    "y = data['loan_amount']  # Dependent variable\n",
    "\n",
    "# Splitting the dataset into training and testing sets\n",
    "X_train, X_test, y_train, y_test = train_test_split(X, y, test_size=0.2, random_state=42)\n",
    "\n",
    "# Creating and training the regression model\n",
    "model = LinearRegression()\n",
    "model.fit(X_train, y_train)\n",
    "\n",
    "# Checking the coefficient (relationship between income and loan amount)\n",
    "print(\"Coefficient for Income and Loan Amount:\", model.coef_)\n"
   ]
  },
  {
   "cell_type": "code",
   "execution_count": 37,
   "id": "9acd62a6-c389-4bfc-8706-45bc198dabf3",
   "metadata": {},
   "outputs": [
    {
     "name": "stdout",
     "output_type": "stream",
     "text": [
      "Coefficient for Income and Loan Amount: [0.03108326]\n"
     ]
    }
   ],
   "source": [
    "from sklearn.model_selection import train_test_split\n",
    "from sklearn.linear_model import LinearRegression\n",
    "\n",
    "# Selecting features and target variable\n",
    "X = data[['income']]  # Independent variable\n",
    "y = data['loan_amount']  # Dependent variable\n",
    "\n",
    "# Splitting the dataset into training and testing sets\n",
    "X_train, X_test, y_train, y_test = train_test_split(X, y, test_size=0.2, random_state=42)\n",
    "\n",
    "# Creating and training the regression model\n",
    "model = LinearRegression()\n",
    "model.fit(X_train, y_train)\n",
    "\n",
    "# Checking the coefficient (relationship between income and loan amount)\n",
    "print(\"Coefficient for Income and Loan Amount:\", model.coef_)\n"
   ]
  },
  {
   "cell_type": "code",
   "execution_count": 38,
   "id": "2ed62980-037e-4e47-b1a4-92a7b3a2e059",
   "metadata": {},
   "outputs": [
    {
     "ename": "ModuleNotFoundError",
     "evalue": "No module named 'statsmodels'",
     "output_type": "error",
     "traceback": [
      "\u001b[1;31m---------------------------------------------------------------------------\u001b[0m",
      "\u001b[1;31mModuleNotFoundError\u001b[0m                       Traceback (most recent call last)",
      "Cell \u001b[1;32mIn[38], line 1\u001b[0m\n\u001b[1;32m----> 1\u001b[0m \u001b[38;5;28;01mimport\u001b[39;00m \u001b[38;5;21;01mstatsmodels\u001b[39;00m\u001b[38;5;21;01m.\u001b[39;00m\u001b[38;5;21;01mapi\u001b[39;00m \u001b[38;5;28;01mas\u001b[39;00m \u001b[38;5;21;01msm\u001b[39;00m\n\u001b[0;32m      3\u001b[0m \u001b[38;5;66;03m# Add a constant (for the intercept term)\u001b[39;00m\n\u001b[0;32m      4\u001b[0m X \u001b[38;5;241m=\u001b[39m sm\u001b[38;5;241m.\u001b[39madd_constant(data[\u001b[38;5;124m'\u001b[39m\u001b[38;5;124mincome\u001b[39m\u001b[38;5;124m'\u001b[39m])\n",
      "\u001b[1;31mModuleNotFoundError\u001b[0m: No module named 'statsmodels'"
     ]
    }
   ],
   "source": [
    "import statsmodels.api as sm\n",
    "\n",
    "# Add a constant (for the intercept term)\n",
    "X = sm.add_constant(data['income'])\n",
    "y = data['loan_amount']\n",
    "\n",
    "# Build and fit the regression model\n",
    "model = sm.OLS(y, X).fit()\n",
    "\n",
    "# Display the summary\n",
    "print(model.summary())\n"
   ]
  },
  {
   "cell_type": "code",
   "execution_count": 39,
   "id": "74f07731-06c8-482f-9f15-1e73207be397",
   "metadata": {},
   "outputs": [
    {
     "name": "stdout",
     "output_type": "stream",
     "text": [
      "Collecting statsmodels\n",
      "  Downloading statsmodels-0.14.3-cp312-cp312-win_amd64.whl.metadata (9.5 kB)\n",
      "Requirement already satisfied: numpy<3,>=1.22.3 in c:\\users\\pc\\appdata\\local\\programs\\python\\python312\\lib\\site-packages (from statsmodels) (2.1.1)\n",
      "Requirement already satisfied: scipy!=1.9.2,>=1.8 in c:\\users\\pc\\appdata\\local\\programs\\python\\python312\\lib\\site-packages (from statsmodels) (1.14.1)\n",
      "Requirement already satisfied: pandas!=2.1.0,>=1.4 in c:\\users\\pc\\appdata\\local\\programs\\python\\python312\\lib\\site-packages (from statsmodels) (2.2.3)\n",
      "Collecting patsy>=0.5.6 (from statsmodels)\n",
      "  Downloading patsy-0.5.6-py2.py3-none-any.whl.metadata (3.5 kB)\n",
      "Requirement already satisfied: packaging>=21.3 in c:\\users\\pc\\appdata\\local\\programs\\python\\python312\\lib\\site-packages (from statsmodels) (24.1)\n",
      "Requirement already satisfied: python-dateutil>=2.8.2 in c:\\users\\pc\\appdata\\local\\programs\\python\\python312\\lib\\site-packages (from pandas!=2.1.0,>=1.4->statsmodels) (2.9.0.post0)\n",
      "Requirement already satisfied: pytz>=2020.1 in c:\\users\\pc\\appdata\\local\\programs\\python\\python312\\lib\\site-packages (from pandas!=2.1.0,>=1.4->statsmodels) (2024.2)\n",
      "Requirement already satisfied: tzdata>=2022.7 in c:\\users\\pc\\appdata\\local\\programs\\python\\python312\\lib\\site-packages (from pandas!=2.1.0,>=1.4->statsmodels) (2024.2)\n",
      "Requirement already satisfied: six in c:\\users\\pc\\appdata\\local\\programs\\python\\python312\\lib\\site-packages (from patsy>=0.5.6->statsmodels) (1.16.0)\n",
      "Downloading statsmodels-0.14.3-cp312-cp312-win_amd64.whl (9.8 MB)\n",
      "   ---------------------------------------- 0.0/9.8 MB ? eta -:--:--\n",
      "   ---------------------------------------- 0.0/9.8 MB ? eta -:--:--\n",
      "   - -------------------------------------- 0.3/9.8 MB ? eta -:--:--\n",
      "   - -------------------------------------- 0.3/9.8 MB ? eta -:--:--\n",
      "   --- ------------------------------------ 0.8/9.8 MB 958.5 kB/s eta 0:00:10\n",
      "   ----- ---------------------------------- 1.3/9.8 MB 1.4 MB/s eta 0:00:07\n",
      "   ------ --------------------------------- 1.6/9.8 MB 1.3 MB/s eta 0:00:07\n",
      "   ------- -------------------------------- 1.8/9.8 MB 1.3 MB/s eta 0:00:07\n",
      "   -------- ------------------------------- 2.1/9.8 MB 1.4 MB/s eta 0:00:06\n",
      "   ---------- ----------------------------- 2.6/9.8 MB 1.5 MB/s eta 0:00:05\n",
      "   ----------- ---------------------------- 2.9/9.8 MB 1.4 MB/s eta 0:00:05\n",
      "   ------------- -------------------------- 3.4/9.8 MB 1.5 MB/s eta 0:00:05\n",
      "   ---------------- ----------------------- 3.9/9.8 MB 1.7 MB/s eta 0:00:04\n",
      "   ----------------- ---------------------- 4.2/9.8 MB 1.6 MB/s eta 0:00:04\n",
      "   ------------------- -------------------- 4.7/9.8 MB 1.6 MB/s eta 0:00:04\n",
      "   ---------------------- ----------------- 5.5/9.8 MB 1.8 MB/s eta 0:00:03\n",
      "   ----------------------- ---------------- 5.8/9.8 MB 1.8 MB/s eta 0:00:03\n",
      "   ------------------------ --------------- 6.0/9.8 MB 1.7 MB/s eta 0:00:03\n",
      "   --------------------------- ------------ 6.8/9.8 MB 1.8 MB/s eta 0:00:02\n",
      "   ----------------------------- ---------- 7.3/9.8 MB 1.9 MB/s eta 0:00:02\n",
      "   -------------------------------- ------- 7.9/9.8 MB 1.9 MB/s eta 0:00:02\n",
      "   --------------------------------- ------ 8.1/9.8 MB 1.9 MB/s eta 0:00:01\n",
      "   ----------------------------------- ---- 8.7/9.8 MB 1.9 MB/s eta 0:00:01\n",
      "   ------------------------------------ --- 8.9/9.8 MB 1.9 MB/s eta 0:00:01\n",
      "   -------------------------------------- - 9.4/9.8 MB 1.9 MB/s eta 0:00:01\n",
      "   ---------------------------------------  9.7/9.8 MB 1.9 MB/s eta 0:00:01\n",
      "   ---------------------------------------- 9.8/9.8 MB 1.9 MB/s eta 0:00:00\n",
      "Downloading patsy-0.5.6-py2.py3-none-any.whl (233 kB)\n",
      "Installing collected packages: patsy, statsmodels\n",
      "Successfully installed patsy-0.5.6 statsmodels-0.14.3\n"
     ]
    }
   ],
   "source": [
    "!pip install statsmodels\n"
   ]
  },
  {
   "cell_type": "code",
   "execution_count": 40,
   "id": "f5181eb7-3074-4fc4-af54-7f2c6c0ef6b4",
   "metadata": {},
   "outputs": [
    {
     "name": "stdout",
     "output_type": "stream",
     "text": [
      "                            OLS Regression Results                            \n",
      "==============================================================================\n",
      "Dep. Variable:            loan_amount   R-squared:                       0.000\n",
      "Model:                            OLS   Adj. R-squared:                 -0.000\n",
      "Method:                 Least Squares   F-statistic:                    0.9233\n",
      "Date:                Sun, 29 Sep 2024   Prob (F-statistic):              0.337\n",
      "Time:                        20:34:26   Log-Likelihood:                -78005.\n",
      "No. Observations:                5000   AIC:                         1.560e+05\n",
      "Df Residuals:                    4998   BIC:                         1.560e+05\n",
      "Df Model:                           1                                         \n",
      "Covariance Type:            nonrobust                                         \n",
      "==============================================================================\n",
      "                 coef    std err          t      P>|t|      [0.025      0.975]\n",
      "------------------------------------------------------------------------------\n",
      "const       2.544e+06   4.14e+04     61.505      0.000    2.46e+06    2.62e+06\n",
      "income         0.0342      0.036      0.961      0.337      -0.036       0.104\n",
      "==============================================================================\n",
      "Omnibus:                     4374.611   Durbin-Watson:                   2.018\n",
      "Prob(Omnibus):                  0.000   Jarque-Bera (JB):              303.050\n",
      "Skew:                          -0.044   Prob(JB):                     1.56e-66\n",
      "Kurtosis:                       1.797   Cond. No.                     2.36e+06\n",
      "==============================================================================\n",
      "\n",
      "Notes:\n",
      "[1] Standard Errors assume that the covariance matrix of the errors is correctly specified.\n",
      "[2] The condition number is large, 2.36e+06. This might indicate that there are\n",
      "strong multicollinearity or other numerical problems.\n"
     ]
    }
   ],
   "source": [
    "import statsmodels.api as sm\n",
    "\n",
    "# Add a constant (for the intercept term)\n",
    "X = sm.add_constant(data['income'])\n",
    "y = data['loan_amount']\n",
    "\n",
    "# Build and fit the regression model\n",
    "model = sm.OLS(y, X).fit()\n",
    "\n",
    "# Display the summary\n",
    "print(model.summary())\n"
   ]
  },
  {
   "cell_type": "code",
   "execution_count": null,
   "id": "caca07b5-16fe-4b8e-81a1-ecd8b08279c8",
   "metadata": {},
   "outputs": [],
   "source": []
  }
 ],
 "metadata": {
  "kernelspec": {
   "display_name": "Python 3 (ipykernel)",
   "language": "python",
   "name": "python3"
  },
  "language_info": {
   "codemirror_mode": {
    "name": "ipython",
    "version": 3
   },
   "file_extension": ".py",
   "mimetype": "text/x-python",
   "name": "python",
   "nbconvert_exporter": "python",
   "pygments_lexer": "ipython3",
   "version": "3.12.6"
  }
 },
 "nbformat": 4,
 "nbformat_minor": 5
}
